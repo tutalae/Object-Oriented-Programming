{
  "nbformat": 4,
  "nbformat_minor": 0,
  "metadata": {
    "colab": {
      "name": "OOP-inheritance.ipynb",
      "provenance": [],
      "authorship_tag": "ABX9TyOUtZ6bvRL1aYRuxdugcDx0",
      "include_colab_link": true
    },
    "kernelspec": {
      "name": "python3",
      "display_name": "Python 3"
    }
  },
  "cells": [
    {
      "cell_type": "markdown",
      "metadata": {
        "id": "view-in-github",
        "colab_type": "text"
      },
      "source": [
        "<a href=\"https://colab.research.google.com/github/tutalae/Object-Oriented-Programming/blob/main/OOP_inheritance.ipynb\" target=\"_parent\"><img src=\"https://colab.research.google.com/assets/colab-badge.svg\" alt=\"Open In Colab\"/></a>"
      ]
    },
    {
      "cell_type": "code",
      "metadata": {
        "id": "VOczUEcJbr0X"
      },
      "source": [
        "class Publication:\r\n",
        "  def __init__(self, title, price):\r\n",
        "    self.title = title\r\n",
        "    self.price = price\r\n",
        "\r\n",
        "class Book(Publication):\r\n",
        "  def __init__(self, title, author, pages, price):\r\n",
        "    super().__init__(title, price)\r\n",
        "    self.author = author\r\n",
        "    self.pages =pages\r\n",
        "\r\n",
        "class Periodical(Publication):\r\n",
        "  def __init__(self, title, price, period, publisher):\r\n",
        "    super().__init__(title, price)\r\n",
        "    self.period = period\r\n",
        "    self.publisher = publisher\r\n",
        "\r\n",
        "class Magazine(Periodical):\r\n",
        "  def __init__(self, title, publisher, price, period):\r\n",
        "    super().__init__(title, price, period, publisher)\r\n",
        "\r\n",
        "class Newspaper(Periodical):\r\n",
        "  def __init__(self, title, publisher, price, period):\r\n",
        "    super().__init__(title, price, period, publisher)"
      ],
      "execution_count": 8,
      "outputs": []
    },
    {
      "cell_type": "code",
      "metadata": {
        "colab": {
          "base_uri": "https://localhost:8080/"
        },
        "id": "iGm4WSuGcvPr",
        "outputId": "bb2fcb98-9c05-4a5d-b86d-e877652f7ccd"
      },
      "source": [
        "b1 = Book(\"Brave New World\", \"Aldous Hexley\", 331, 29.0)\r\n",
        "n1 = Newspaper(\"NY Times\", \"New York Times Company\", 6.0, \"Daily\")\r\n",
        "m1 = Magazine(\"Scientific American\", \"Springer Nature\", 5.99, \"Monthly\")\r\n",
        "\r\n",
        "print(b1.author)\r\n",
        "print(n1.publisher)\r\n",
        "print(b1.price, m1.price, n1.price)"
      ],
      "execution_count": 10,
      "outputs": [
        {
          "output_type": "stream",
          "text": [
            "Aldous Hexley\n",
            "New York Times Company\n",
            "29.0 5.99 6.0\n"
          ],
          "name": "stdout"
        }
      ]
    },
    {
      "cell_type": "code",
      "metadata": {
        "id": "gpYMGoFXdcBG"
      },
      "source": [
        ""
      ],
      "execution_count": null,
      "outputs": []
    }
  ]
}