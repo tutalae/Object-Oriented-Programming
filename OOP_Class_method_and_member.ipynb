{
  "nbformat": 4,
  "nbformat_minor": 0,
  "metadata": {
    "colab": {
      "name": "OOP-Class method and member.ipynb",
      "provenance": [],
      "authorship_tag": "ABX9TyMAu9m5u8DN4akhK7w4Vghq",
      "include_colab_link": true
    },
    "kernelspec": {
      "name": "python3",
      "display_name": "Python 3"
    }
  },
  "cells": [
    {
      "cell_type": "markdown",
      "metadata": {
        "id": "view-in-github",
        "colab_type": "text"
      },
      "source": [
        "<a href=\"https://colab.research.google.com/github/tutalae/Object-Oriented-Programming/blob/main/OOP_Class_method_and_member.ipynb\" target=\"_parent\"><img src=\"https://colab.research.google.com/assets/colab-badge.svg\" alt=\"Open In Colab\"/></a>"
      ]
    },
    {
      "cell_type": "code",
      "metadata": {
        "id": "br0OiHIWc0wi"
      },
      "source": [
        "class Book :\r\n",
        "# define class level\r\n",
        "  BOOK_TYPES = (\"HARDCOVER\", \"PAPERBACK\", \"EBOOK\" )\r\n",
        "# __ hide from other class\r\n",
        "  __booklist = None\r\n",
        "  def setTitle(self, newtitle):\r\n",
        "    self.title = newtitle\r\n",
        "  # create a class method\r\n",
        "  @classmethod\r\n",
        "  def getbooktype(cls):\r\n",
        "    return cls.BOOK_TYPES\r\n",
        "  def __init__(self, title, booktype):\r\n",
        "    self.title = title\r\n",
        "    if (not booktype in Book.BOOK_TYPES):\r\n",
        "      raise ValueError (f\"{booktype} is not a valid book type\")\r\n",
        "    else:\r\n",
        "      self.booktype = booktype\r\n",
        "  @staticmethod\r\n",
        "  def getbooklist( ):\r\n",
        "    if Book.__booklist == None:\r\n",
        "        Book.__booklist = []\r\n",
        "    return Book.__booklist\r\n"
      ],
      "execution_count": 9,
      "outputs": []
    },
    {
      "cell_type": "code",
      "metadata": {
        "colab": {
          "base_uri": "https://localhost:8080/"
        },
        "id": "urQZKB3XeZQB",
        "outputId": "642be9ed-871b-4e8d-90f5-7c16771cfe56"
      },
      "source": [
        "print(\"Book types: \", Book.getbooktype())"
      ],
      "execution_count": 6,
      "outputs": [
        {
          "output_type": "stream",
          "text": [
            "Book types:  ('HARDCOVER', 'PAPERBACK', 'EBOOK')\n"
          ],
          "name": "stdout"
        }
      ]
    },
    {
      "cell_type": "code",
      "metadata": {
        "colab": {
          "base_uri": "https://localhost:8080/",
          "height": 317
        },
        "id": "m9kjdv8PelNO",
        "outputId": "4a1a3aee-fbd3-40a2-8ee4-929b143a388d"
      },
      "source": [
        "# create book instance\r\n",
        "b1 = Book(\"Title 1\", \"HARDCOVER\")\r\n",
        "b2 = Book(\"Title 2\", \"COMIC\")"
      ],
      "execution_count": 7,
      "outputs": [
        {
          "output_type": "error",
          "ename": "ValueError",
          "evalue": "ignored",
          "traceback": [
            "\u001b[0;31m---------------------------------------------------------------------------\u001b[0m",
            "\u001b[0;31mValueError\u001b[0m                                Traceback (most recent call last)",
            "\u001b[0;32m<ipython-input-7-58958d14f420>\u001b[0m in \u001b[0;36m<module>\u001b[0;34m()\u001b[0m\n\u001b[1;32m      1\u001b[0m \u001b[0;31m# create book instance\u001b[0m\u001b[0;34m\u001b[0m\u001b[0;34m\u001b[0m\u001b[0;34m\u001b[0m\u001b[0m\n\u001b[1;32m      2\u001b[0m \u001b[0mb1\u001b[0m \u001b[0;34m=\u001b[0m \u001b[0mBook\u001b[0m\u001b[0;34m(\u001b[0m\u001b[0;34m\"Title 1\"\u001b[0m\u001b[0;34m,\u001b[0m \u001b[0;34m\"HARDCOVER\"\u001b[0m\u001b[0;34m)\u001b[0m\u001b[0;34m\u001b[0m\u001b[0;34m\u001b[0m\u001b[0m\n\u001b[0;32m----> 3\u001b[0;31m \u001b[0mb2\u001b[0m \u001b[0;34m=\u001b[0m \u001b[0mBook\u001b[0m\u001b[0;34m(\u001b[0m\u001b[0;34m\"Title 2\"\u001b[0m\u001b[0;34m,\u001b[0m \u001b[0;34m\"COMIC\"\u001b[0m\u001b[0;34m)\u001b[0m\u001b[0;34m\u001b[0m\u001b[0;34m\u001b[0m\u001b[0m\n\u001b[0m",
            "\u001b[0;32m<ipython-input-5-9cd13ca93dc2>\u001b[0m in \u001b[0;36m__init__\u001b[0;34m(self, title, booktype)\u001b[0m\n\u001b[1;32m     11\u001b[0m     \u001b[0mself\u001b[0m\u001b[0;34m.\u001b[0m\u001b[0mtitle\u001b[0m \u001b[0;34m=\u001b[0m \u001b[0mtitle\u001b[0m\u001b[0;34m\u001b[0m\u001b[0;34m\u001b[0m\u001b[0m\n\u001b[1;32m     12\u001b[0m     \u001b[0;32mif\u001b[0m \u001b[0;34m(\u001b[0m\u001b[0;32mnot\u001b[0m \u001b[0mbooktype\u001b[0m \u001b[0;32min\u001b[0m \u001b[0mBook\u001b[0m\u001b[0;34m.\u001b[0m\u001b[0mBOOK_TYPES\u001b[0m\u001b[0;34m)\u001b[0m\u001b[0;34m:\u001b[0m\u001b[0;34m\u001b[0m\u001b[0;34m\u001b[0m\u001b[0m\n\u001b[0;32m---> 13\u001b[0;31m       \u001b[0;32mraise\u001b[0m \u001b[0mValueError\u001b[0m \u001b[0;34m(\u001b[0m\u001b[0;34mf\"{booktype} is not a valid book type\"\u001b[0m\u001b[0;34m)\u001b[0m\u001b[0;34m\u001b[0m\u001b[0;34m\u001b[0m\u001b[0m\n\u001b[0m\u001b[1;32m     14\u001b[0m     \u001b[0;32melse\u001b[0m\u001b[0;34m:\u001b[0m\u001b[0;34m\u001b[0m\u001b[0;34m\u001b[0m\u001b[0m\n\u001b[1;32m     15\u001b[0m       \u001b[0mself\u001b[0m\u001b[0;34m.\u001b[0m\u001b[0mbooktype\u001b[0m \u001b[0;34m=\u001b[0m \u001b[0mbooktype\u001b[0m\u001b[0;34m\u001b[0m\u001b[0;34m\u001b[0m\u001b[0m\n",
            "\u001b[0;31mValueError\u001b[0m: COMIC is not a valid book type"
          ]
        }
      ]
    },
    {
      "cell_type": "code",
      "metadata": {
        "id": "tKUbY1A0fJXd"
      },
      "source": [
        "# ValueError: COMIC is not a valid book type > \"PAPERBACK\"\r\n",
        "b1 = Book(\"Title 1\", \"HARDCOVER\")\r\n",
        "b2 = Book(\"Title 2\", \"PAPERBACK\")"
      ],
      "execution_count": 8,
      "outputs": []
    },
    {
      "cell_type": "code",
      "metadata": {
        "colab": {
          "base_uri": "https://localhost:8080/"
        },
        "id": "_SG3h5otfVPD",
        "outputId": "725ec03f-3b05-46f8-af2c-ec82aa2503f4"
      },
      "source": [
        "# use static method to acess a singleton object\r\n",
        "thebooks = Book.getbooklist()\r\n",
        "thebooks.append(b1)\r\n",
        "thebooks.append(b2)\r\n",
        "print(thebooks)"
      ],
      "execution_count": 10,
      "outputs": [
        {
          "output_type": "stream",
          "text": [
            "[<__main__.Book object at 0x7f9e22506278>, <__main__.Book object at 0x7f9e22506240>]\n"
          ],
          "name": "stdout"
        }
      ]
    },
    {
      "cell_type": "code",
      "metadata": {
        "id": "GbvHvVB8gVz_"
      },
      "source": [
        ""
      ],
      "execution_count": null,
      "outputs": []
    }
  ]
}