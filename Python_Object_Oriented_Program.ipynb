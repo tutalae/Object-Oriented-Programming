{
  "nbformat": 4,
  "nbformat_minor": 0,
  "metadata": {
    "colab": {
      "name": "Python Object-Oriented Program.ipynb",
      "provenance": [],
      "authorship_tag": "ABX9TyPV/l+tG5FQWau7HzrhmIM3",
      "include_colab_link": true
    },
    "kernelspec": {
      "name": "python3",
      "display_name": "Python 3"
    }
  },
  "cells": [
    {
      "cell_type": "markdown",
      "metadata": {
        "id": "view-in-github",
        "colab_type": "text"
      },
      "source": [
        "<a href=\"https://colab.research.google.com/github/tutalae/Object-Oriented-Programming/blob/main/Python_Object_Oriented_Program.ipynb\" target=\"_parent\"><img src=\"https://colab.research.google.com/assets/colab-badge.svg\" alt=\"Open In Colab\"/></a>"
      ]
    },
    {
      "cell_type": "code",
      "metadata": {
        "id": "yggermF9OyZz"
      },
      "source": [
        "# Create Class\r\n",
        "class Book:\r\n",
        "  # init call the instance\r\n",
        "  def __init__(self, title, author, pages, price):\r\n",
        "    self.title = title\r\n",
        "    self.author = author\r\n",
        "    self.pages = pages\r\n",
        "    self.price = price\r\n",
        "  # Create instance methonds\r\n",
        "  def getprice(self):\r\n",
        "    if hasattr(self, \"_discount\"):\r\n",
        "      return self.price - (self.price * self._discount)\r\n",
        "    else:\r\n",
        "      return self.price\r\n",
        "  def setdiscount(self, amount):\r\n",
        "    self._discount = amount\r\n"
      ],
      "execution_count": 49,
      "outputs": []
    },
    {
      "cell_type": "code",
      "metadata": {
        "id": "L0U6428SPBcE"
      },
      "source": [
        "# Create instance of the Class\r\n",
        "b1 = Book(\"Banana\",\"baba baba\", 112, 24.75)\r\n",
        "b2 = Book(\"One Piece\", \"Oda\", 123, 45.6)"
      ],
      "execution_count": 57,
      "outputs": []
    },
    {
      "cell_type": "code",
      "metadata": {
        "id": "h6Va3m1XV8v9"
      },
      "source": [
        "b2.setdiscount(.2)"
      ],
      "execution_count": 61,
      "outputs": []
    },
    {
      "cell_type": "code",
      "metadata": {
        "colab": {
          "base_uri": "https://localhost:8080/"
        },
        "id": "7i9ZTu3WQMiF",
        "outputId": "9989e692-b1f0-41f5-ab32-c648ec03ffec"
      },
      "source": [
        "# print the class and property\r\n",
        "print(b1.getprice())\r\n",
        "print(b1.title)\r\n",
        "b2.getprice()"
      ],
      "execution_count": 62,
      "outputs": [
        {
          "output_type": "stream",
          "text": [
            "24.75\n",
            "Banana\n"
          ],
          "name": "stdout"
        },
        {
          "output_type": "execute_result",
          "data": {
            "text/plain": [
              "36.480000000000004"
            ]
          },
          "metadata": {
            "tags": []
          },
          "execution_count": 62
        }
      ]
    },
    {
      "cell_type": "code",
      "metadata": {
        "colab": {
          "base_uri": "https://localhost:8080/"
        },
        "id": "rcDmzm2oTSde",
        "outputId": "eed232b6-4aea-4f82-de5b-f9ec5403fadf"
      },
      "source": [
        "# type\r\n",
        "print(isinstance(b1, Book))"
      ],
      "execution_count": 63,
      "outputs": [
        {
          "output_type": "stream",
          "text": [
            "True\n"
          ],
          "name": "stdout"
        }
      ]
    },
    {
      "cell_type": "code",
      "metadata": {
        "id": "IuOe7vHaVH1N"
      },
      "source": [
        ""
      ],
      "execution_count": null,
      "outputs": []
    }
  ]
}