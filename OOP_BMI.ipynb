{
  "nbformat": 4,
  "nbformat_minor": 0,
  "metadata": {
    "colab": {
      "name": "OOP BMI.ipynb",
      "provenance": [],
      "authorship_tag": "ABX9TyMo6EUpxjuxXok4WNhOQ8ol",
      "include_colab_link": true
    },
    "kernelspec": {
      "name": "python3",
      "display_name": "Python 3"
    },
    "language_info": {
      "name": "python"
    }
  },
  "cells": [
    {
      "cell_type": "markdown",
      "metadata": {
        "id": "view-in-github",
        "colab_type": "text"
      },
      "source": [
        "<a href=\"https://colab.research.google.com/github/tutalae/Object-Oriented-Programming/blob/main/OOP_BMI.ipynb\" target=\"_parent\"><img src=\"https://colab.research.google.com/assets/colab-badge.svg\" alt=\"Open In Colab\"/></a>"
      ]
    },
    {
      "cell_type": "code",
      "metadata": {
        "id": "WRJHOjaISHrm"
      },
      "source": [
        "class Bmi:\n",
        "  def __init__(self, w_kg, h_cm):\n",
        "    self.w_kg = w_kg\n",
        "    self.h_cm = h_cm\n",
        "\n",
        "  def bmi(self):\n",
        "    return self.w_kg/(self.h_cm/100)**2\n",
        "\n",
        "  def category(self):\n",
        "    if self.bmi() < 18.5:\n",
        "      diag = \"ต่ำกว่ามาตรฐาน\"\n",
        "    elif 18.5 <= self.bmi() <= 25:\n",
        "      diag = \"ตามเกณฑ์\"\n",
        "    elif 25 <= self.bmi() <= 30:\n",
        "      diag = \"เกินเกณฑ์\"\n",
        "    elif self.bmi() > 30:\n",
        "      diag = \"อ้วน\"\n",
        "    return diag\n",
        "  def __str__ (self):\n",
        "    return \"BMI = {: .2f} ({})\".format (self.bmi(), self.category())"
      ],
      "execution_count": 21,
      "outputs": []
    },
    {
      "cell_type": "code",
      "metadata": {
        "colab": {
          "base_uri": "https://localhost:8080/",
          "height": 35
        },
        "id": "h5m7JnwtSs1p",
        "outputId": "8e2ae317-ea32-4d38-87cf-9756c1dc11cf"
      },
      "source": [
        "P1 = Bmi(65, 172)\n",
        "P1.category()"
      ],
      "execution_count": 23,
      "outputs": [
        {
          "output_type": "execute_result",
          "data": {
            "application/vnd.google.colaboratory.intrinsic+json": {
              "type": "string"
            },
            "text/plain": [
              "'ตามเกณฑ์'"
            ]
          },
          "metadata": {
            "tags": []
          },
          "execution_count": 23
        }
      ]
    },
    {
      "cell_type": "code",
      "metadata": {
        "colab": {
          "base_uri": "https://localhost:8080/"
        },
        "id": "HHZ1FubsUqoX",
        "outputId": "9326b4db-7f6b-414d-f704-a16f9c1f9e3c"
      },
      "source": [
        "print(P1)"
      ],
      "execution_count": 24,
      "outputs": [
        {
          "output_type": "stream",
          "text": [
            "BMI =  21.97 (ตามเกณฑ์)\n"
          ],
          "name": "stdout"
        }
      ]
    },
    {
      "cell_type": "code",
      "metadata": {
        "colab": {
          "base_uri": "https://localhost:8080/"
        },
        "id": "voyyWq-2VXjr",
        "outputId": "af08a314-6284-44b1-ee5c-d5e2071c66b3"
      },
      "source": [
        "P2 = Bmi(70, 190)\n",
        "print(P2)"
      ],
      "execution_count": 26,
      "outputs": [
        {
          "output_type": "stream",
          "text": [
            "BMI =  19.39 (ตามเกณฑ์)\n"
          ],
          "name": "stdout"
        }
      ]
    },
    {
      "cell_type": "code",
      "metadata": {
        "id": "rKoTE3TVWXrm"
      },
      "source": [
        ""
      ],
      "execution_count": null,
      "outputs": []
    }
  ]
}