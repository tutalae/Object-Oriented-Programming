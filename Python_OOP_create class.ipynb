{
  "nbformat": 4,
  "nbformat_minor": 0,
  "metadata": {
    "colab": {
      "name": "Python-OOP.ipynb",
      "provenance": [],
      "authorship_tag": "ABX9TyNesVr92Xa85ReDWw9NScR8",
      "include_colab_link": true
    },
    "kernelspec": {
      "name": "python3",
      "display_name": "Python 3"
    },
    "language_info": {
      "name": "python"
    }
  },
  "cells": [
    {
      "cell_type": "markdown",
      "metadata": {
        "id": "view-in-github",
        "colab_type": "text"
      },
      "source": [
        "<a href=\"https://colab.research.google.com/github/tutalae/Object-Oriented-Programming/blob/main/Python_OOP_create%20class.ipynb\" target=\"_parent\"><img src=\"https://colab.research.google.com/assets/colab-badge.svg\" alt=\"Open In Colab\"/></a>"
      ]
    },
    {
      "cell_type": "code",
      "metadata": {
        "id": "UzGDT1cQIsT0"
      },
      "source": [
        "class Player(object):\n",
        "  def __init__(self): # dunder = double underscores\n",
        "    self.fname = \"\"\n",
        "    self.lname = \"\"\n",
        "    self.number = \"\"\n",
        "  def __str__(self):\n",
        "    return \"First name : {}, Last name : {}, Number : {}\".format( self.fname, self.lname, self.number)"
      ],
      "execution_count": 30,
      "outputs": []
    },
    {
      "cell_type": "code",
      "metadata": {
        "id": "4rvx301gIsWp"
      },
      "source": [
        "if __name__ == '__main__':\n",
        "  p1 = Player()\n",
        "  p1.fname = \"sari\"\n",
        "  p1.lname = \"risa\"\n",
        "  p1.number = 1\n",
        "\n",
        "  p2 = Player()\n",
        "  p2.fname = \"soki\"\n",
        "  p2.lname = \"kiso\"\n",
        "  p2.number = 2\n"
      ],
      "execution_count": 31,
      "outputs": []
    },
    {
      "cell_type": "code",
      "metadata": {
        "id": "2SPdOwGGQgtk"
      },
      "source": [
        "class Medal:\n",
        "  def __init__(self, country, gold, silver, bronze):\n",
        "    self.country = country\n",
        "    self.gold = gold\n",
        "    self.silver = silver\n",
        "    self.bronze = bronze\n",
        "  def total(self):\n",
        "    return \"total medal : {}\".format(self.gold + self.silver + self.bronze)\n"
      ],
      "execution_count": 35,
      "outputs": []
    },
    {
      "cell_type": "code",
      "metadata": {
        "colab": {
          "base_uri": "https://localhost:8080/"
        },
        "id": "e1xvoGpgQglS",
        "outputId": "0ab4b807-a145-4a73-bc0e-6c5ce0d19b5a"
      },
      "source": [
        "th = Medal(\"Thailand\", 1, 2, 3)\n",
        "print(th.total())"
      ],
      "execution_count": 36,
      "outputs": [
        {
          "output_type": "stream",
          "text": [
            "total medal : 6\n"
          ],
          "name": "stdout"
        }
      ]
    },
    {
      "cell_type": "code",
      "metadata": {
        "colab": {
          "base_uri": "https://localhost:8080/"
        },
        "id": "qKtqSMC_IsZ6",
        "outputId": "8ddea74d-20ce-4820-9562-c70818072537"
      },
      "source": [
        "print(p1.fname, p1.lname, p1.number)"
      ],
      "execution_count": 10,
      "outputs": [
        {
          "output_type": "stream",
          "text": [
            "sari risa 1\n"
          ],
          "name": "stdout"
        }
      ]
    },
    {
      "cell_type": "code",
      "metadata": {
        "colab": {
          "base_uri": "https://localhost:8080/"
        },
        "id": "TxU_ky7TIsdQ",
        "outputId": "0740edbc-54c5-46c2-c1f6-83c3c6b32324"
      },
      "source": [
        "print(p2)"
      ],
      "execution_count": 32,
      "outputs": [
        {
          "output_type": "stream",
          "text": [
            "First name : soki, Last name : kiso, Number : 2\n"
          ],
          "name": "stdout"
        }
      ]
    },
    {
      "cell_type": "code",
      "metadata": {
        "id": "KXIGP0t8OIJ5"
      },
      "source": [
        ""
      ],
      "execution_count": 29,
      "outputs": []
    }
  ]
}